{
 "cells": [
  {
   "cell_type": "code",
   "execution_count": null,
   "id": "ba2e66fb-f932-43fc-beb5-6a45de236a04",
   "metadata": {},
   "outputs": [],
   "source": [
    "a = \"First Name\"\n",
    "b = \"Second Name\"\n",
    "\n",
    "\n",
    "prinT(\"\"Your Fullname is: \" a + B)\")"
   ]
  },
  {
   "cell_type": "code",
   "execution_count": null,
   "id": "c89c259b-ffbb-4e51-bcff-627e6dd68043",
   "metadata": {},
   "outputs": [],
   "source": [
    "tab = int(input(\"Which number of table do you want: \" ))\n",
    "num = int(input(\"How many times of table do you want: \" ))\n",
    "\n",
    "for i in range(1, tab + 1, 2):\n",
    "    print(f\"{tab} x {num} = {tab * i}\")\n",
    "    \n",
    "    \n",
    "else:\n",
    "    print(\"Your table is finished\")"
   ]
  },
  {
   "cell_type": "code",
   "execution_count": null,
   "id": "c5cf698c",
   "metadata": {},
   "outputs": [],
   "source": [
    "#Complete the Code\n",
    "\n",
    "eng = (input(\"Please enter your English marks: \"))\n",
    "math = int(input(\"Please enter your Maths Marks: \"))\n",
    "urdu = int(input(\"Please enter your Urdu Marks: \"))\n",
    "\n",
    "obtain = 'eng' + \"math\" + \"urdu\"\n",
    "percent = obtain // 300 * 100\n",
    "\n",
    "print(f\"Your percentage is {percent}\")"
   ]
  },
  {
   "cell_type": "code",
   "execution_count": null,
   "id": "98eec46c-b7ce-4fe7-b3b1-f59ef5a1b40e",
   "metadata": {},
   "outputs": [],
   "source": [
    "# Fix the loop to print even numbers:\n",
    "\n",
    "\n",
    "a = 3\n",
    "\n",
    "while a <= 10\n",
    "    print(a)\n",
    "    a += 2\n"
   ]
  },
  {
   "cell_type": "code",
   "execution_count": null,
   "id": "9a6b3662-0bb4-4e13-ab81-f02a610a2355",
   "metadata": {},
   "outputs": [],
   "source": [
    "# ADD a and b\n",
    "\n",
    "a = str(6554)\n",
    "b = str(9795)\n",
    "\n",
    "c = a + b\n",
    "\n",
    "print(c)"
   ]
  },
  {
   "cell_type": "code",
   "execution_count": null,
   "id": "40b4ab22-1fb3-497f-ac59-f9bfd380a101",
   "metadata": {},
   "outputs": [],
   "source": [
    "# Fix the code\n",
    "def percentage(a)\n",
    "    per = a / 500 * 100\n",
    "    return per\n",
    "\n",
    "\n",
    "obt = int(input(\"Give me Obtain: \"))\n",
    "\n",
    "print(percentage)"
   ]
  },
  {
   "cell_type": "code",
   "execution_count": null,
   "id": "a9dfa1d9-8f19-40a3-8405-68b299976f7e",
   "metadata": {},
   "outputs": [],
   "source": [
    "b = {\"Aamir\":[\"Father\", 12, 1564], \"Muneeb\": \"xyz\", \"Anas\":\"jkl\"}\n",
    "\n",
    "# Add a new entry for the key \"Fahad\" \n",
    "b[\"Fahad\"] = \n",
    "\n",
    "\n",
    "# Correct the Father name of \"Muneeb\" as Abbasi\n",
    "b[]\n",
    "\n",
    "\n",
    "\n",
    "print(b)"
   ]
  },
  {
   "cell_type": "code",
   "execution_count": null,
   "id": "97b2f653-9bf5-4a2d-96d6-75e9f4de4dcb",
   "metadata": {},
   "outputs": [],
   "source": [
    "names = [\"Amjad\", \"Arshad\", \"Asad\"]\n",
    "\n",
    "#Insert this name in the list at 2nd place\n",
    "y = \"Ali\"\n",
    "\n",
    "names.insert()\n",
    "\n",
    "print(names)"
   ]
  },
  {
   "cell_type": "code",
   "execution_count": null,
   "id": "20a8f0a2-251b-4d79-bd02-bc84e1856cd5",
   "metadata": {},
   "outputs": [],
   "source": [
    "# Get the lenght of list \"names\"\n",
    "names"
   ]
  },
  {
   "cell_type": "code",
   "execution_count": null,
   "id": "8567b9ee-92a3-4b38-a023-4c5d5a4c98d4",
   "metadata": {},
   "outputs": [],
   "source": [
    "nums = {1, 3, 5, 7}\n",
    "\n",
    "# Add a number to the set\n",
    "nums.____(11)\n",
    "\n",
    "print(nums)"
   ]
  },
  {
   "cell_type": "code",
   "execution_count": null,
   "id": "b937e985-6b60-4658-9515-5ccf83d546e4",
   "metadata": {},
   "outputs": [],
   "source": [
    "t = dict(name = \"John\", age = 36, country = \"Norway\")\n",
    "\n",
    "#Print the dictionary by using loop\n",
    "for b, a in t._____():\n",
    "    print(__, __)"
   ]
  }
 ],
 "metadata": {
  "kernelspec": {
   "display_name": "Python 3 (ipykernel)",
   "language": "python",
   "name": "python3"
  },
  "language_info": {
   "codemirror_mode": {
    "name": "ipython",
    "version": 3
   },
   "file_extension": ".py",
   "mimetype": "text/x-python",
   "name": "python",
   "nbconvert_exporter": "python",
   "pygments_lexer": "ipython3",
   "version": "3.9.12"
  }
 },
 "nbformat": 4,
 "nbformat_minor": 5
}
