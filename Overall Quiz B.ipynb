{
 "cells": [
  {
   "cell_type": "code",
   "execution_count": null,
   "id": "40b4ab22-1fb3-497f-ac59-f9bfd380a101",
   "metadata": {},
   "outputs": [],
   "source": [
    "# Fix the code\n",
    "def percentage(score)\n",
    "    value = score / 500 * 100\n",
    "    return value\n",
    "\n",
    "\n",
    "obtained = int(input(\"Enter your score: \"))\n",
    "print(percentage)\n"
   ]
  },
  {
   "cell_type": "code",
   "execution_count": null,
   "id": "b937e985-6b60-4658-9515-5ccf83d546e4",
   "metadata": {},
   "outputs": [],
   "source": [
    "info = dict(fullname=\"Jane\", years=29, nation=\"Sweden\")\n",
    "\n",
    "#Print the dictionary by using loop\n",
    "for key, value in info._____():\n",
    "    print(__, __)"
   ]
  },
  {
   "cell_type": "code",
   "execution_count": null,
   "id": "a9dfa1d9-8f19-40a3-8405-68b299976f7e",
   "metadata": {},
   "outputs": [],
   "source": [
    "family = {\"Ali\":\"Khan\", \"Sameer\": \"abc\", \"Zain\": 123}\n",
    "\n",
    "# Add a new entry for the key \"Hassan\"\n",
    "family[\"Hassan\"] = \n",
    "\n",
    "# Correct the Father name of \"Sameer\" to Abbasi\n",
    "family[]\n",
    "\n",
    "\n",
    "print(family)"
   ]
  },
  {
   "cell_type": "code",
   "execution_count": 1,
   "id": "98eec46c-b7ce-4fe7-b3b1-f59ef5a1b40e",
   "metadata": {},
   "outputs": [
    {
     "ename": "SyntaxError",
     "evalue": "invalid syntax (2653508317.py, line 4)",
     "output_type": "error",
     "traceback": [
      "\u001b[1;36m  Input \u001b[1;32mIn [1]\u001b[1;36m\u001b[0m\n\u001b[1;33m    while x <= 9\u001b[0m\n\u001b[1;37m                ^\u001b[0m\n\u001b[1;31mSyntaxError\u001b[0m\u001b[1;31m:\u001b[0m invalid syntax\n"
     ]
    }
   ],
   "source": [
    "# Fix the loop to print odd numbers:\n",
    "x = 2\n",
    "\n",
    "while x <= 9\n",
    "    print(x)\n",
    "    x = 2"
   ]
  },
  {
   "cell_type": "code",
   "execution_count": null,
   "id": "ba2e66fb-f932-43fc-beb5-6a45de236a04",
   "metadata": {},
   "outputs": [],
   "source": [
    "first = \"First Name\"\n",
    "second = \"Last Name\"\n",
    "\n",
    "\n",
    "printt(\"\"Your complete name is: \" First + second)\")\n"
   ]
  },
  {
   "cell_type": "code",
   "execution_count": null,
   "id": "c89c259b-ffbb-4e51-bcff-627e6dd68043",
   "metadata": {},
   "outputs": [],
   "source": [
    "tab = int(input(\"Which number of table do you want: \" ))\n",
    "num = int(input(\"How many times of table do you want: \" ))\n",
    "\n",
    "for i in range(1, tab + 1, 2):\n",
    "    print(f\"{tab} x {num} = {tab * i}\")\n",
    "    \n",
    "    \n",
    "else:\n",
    "    print(\"Your table is finished\")"
   ]
  },
  {
   "cell_type": "code",
   "execution_count": null,
   "id": "9a6b3662-0bb4-4e13-ab81-f02a610a2355",
   "metadata": {},
   "outputs": [],
   "source": [
    "# ADD a and b\n",
    "\n",
    "a = str(6554)\n",
    "b = str(9795)\n",
    "\n",
    "c = a + b\n",
    "\n",
    "print(c)"
   ]
  },
  {
   "cell_type": "code",
   "execution_count": null,
   "id": "97b2f653-9bf5-4a2d-96d6-75e9f4de4dcb",
   "metadata": {},
   "outputs": [],
   "source": [
    "students = [\"Ahsan\", \"Bilal\", \"Daniyal\"]\n",
    "\n",
    "#Insert this name in the list at the 3rd position\n",
    "new_name = \"Hassan\"\n",
    "\n",
    "students.insert()\n",
    "\n",
    "print(students)"
   ]
  },
  {
   "cell_type": "code",
   "execution_count": null,
   "id": "20a8f0a2-251b-4d79-bd02-bc84e1856cd5",
   "metadata": {},
   "outputs": [],
   "source": [
    "# Find the length of list \"students\"\n",
    "students"
   ]
  },
  {
   "cell_type": "code",
   "execution_count": null,
   "id": "8567b9ee-92a3-4b38-a023-4c5d5a4c98d4",
   "metadata": {},
   "outputs": [],
   "source": [
    "values = {2, 4, 6, 8}\n",
    "\n",
    "# Add a value to the set\n",
    "values.____(10)\n",
    "\n",
    "print(values)\n"
   ]
  },
  {
   "cell_type": "code",
   "execution_count": null,
   "id": "c5cf698c",
   "metadata": {},
   "outputs": [],
   "source": [
    "#Complete the Code\n",
    "\n",
    "eng = (input(\"Please enter your English marks: \"))\n",
    "math = int(input(\"Please enter your Maths Marks: \"))\n",
    "urdu = int(input(\"Please enter your Urdu Marks: \"))\n",
    "\n",
    "obtain = 'eng' + \"math\" + \"urdu\"\n",
    "percent = obtain // 300 * 100\n",
    "\n",
    "print(f\"Your percentage is {percent}\")"
   ]
  }
 ],
 "metadata": {
  "kernelspec": {
   "display_name": "Python 3 (ipykernel)",
   "language": "python",
   "name": "python3"
  },
  "language_info": {
   "codemirror_mode": {
    "name": "ipython",
    "version": 3
   },
   "file_extension": ".py",
   "mimetype": "text/x-python",
   "name": "python",
   "nbconvert_exporter": "python",
   "pygments_lexer": "ipython3",
   "version": "3.9.12"
  }
 },
 "nbformat": 4,
 "nbformat_minor": 5
}
